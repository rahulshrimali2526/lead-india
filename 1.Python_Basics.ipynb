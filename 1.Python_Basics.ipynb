{
  "cells": [
    {
      "metadata": {
        "slideshow": {
          "slide_type": "-"
        }
      },
      "cell_type": "markdown",
      "source": "# Python Basics"
    },
    {
      "metadata": {
        "trusted": true
      },
      "cell_type": "code",
      "source": "# Printing a string\nprint(\"Hello, Python!\")\nprint(\"Rahul Shrimali\")",
      "execution_count": 1,
      "outputs": [
        {
          "output_type": "stream",
          "text": "Hello, Python!\nRahul Shrimali\n",
          "name": "stdout"
        }
      ]
    },
    {
      "metadata": {
        "trusted": false
      },
      "cell_type": "code",
      "source": "i=10\nj=20\nk=i*j\nprint(\"Mul is {0} and {1}\".format(i,j),k)",
      "execution_count": 49,
      "outputs": [
        {
          "name": "stdout",
          "output_type": "stream",
          "text": "Mul is 10 and 20 200\n"
        }
      ]
    },
    {
      "metadata": {},
      "cell_type": "markdown",
      "source": "### Variables"
    },
    {
      "metadata": {
        "trusted": false
      },
      "cell_type": "code",
      "source": "# defining a variable : In Python there is no need to mention the data type\n\nvar1 = 10      # An integer assignment\nvar2 = 3.146   # A floating point\nvar3 = \"Hello\" # A string\n\nprint(var1,var2,var3)",
      "execution_count": 50,
      "outputs": [
        {
          "name": "stdout",
          "output_type": "stream",
          "text": "10 3.146 Hello\n"
        }
      ]
    },
    {
      "metadata": {},
      "cell_type": "markdown",
      "source": "### Assignment"
    },
    {
      "metadata": {
        "trusted": false
      },
      "cell_type": "code",
      "source": "# Assigning same value to multiple variables\n\nvar1 = var2 = var3 = 1\nprint(var1,' ',var2,' ',var3)\n\n# Assigning Different values to variable in a single expression\n\nvar1, var2, var3 = 1, 2.5, \"john\"\nprint(var1,' ',var2,' ',var3)\n\n# Note: commas can be used for multi-assignments",
      "execution_count": 51,
      "outputs": [
        {
          "name": "stdout",
          "output_type": "stream",
          "text": "1   1   1\n1   2.5   john\n"
        }
      ]
    },
    {
      "metadata": {
        "slideshow": {
          "slide_type": "slide"
        }
      },
      "cell_type": "markdown",
      "source": "### Slicing"
    },
    {
      "metadata": {
        "trusted": false
      },
      "cell_type": "code",
      "source": "# String operations\n\nstr = 'Rahul Shrimali!'  # A string\n\nprint(str)          # Prints complete string\nprint(str[0])       # Prints first character of the string\nprint(str[2:5])     # Prints characters starting from 3rd to 5th\nprint(str[2:])      # Prints string starting from 3rd character\nprint(str[:2])\nprint(str * 2)      # Prints string two times\nprint(str + \"TEST\") # Prints concatenated string",
      "execution_count": 52,
      "outputs": [
        {
          "name": "stdout",
          "output_type": "stream",
          "text": "Rahul Shrimali!\nR\nhul\nhul Shrimali!\nRa\nRahul Shrimali!Rahul Shrimali!\nRahul Shrimali!TEST\n"
        }
      ]
    },
    {
      "metadata": {},
      "cell_type": "markdown",
      "source": "### Data types"
    },
    {
      "metadata": {
        "trusted": false
      },
      "cell_type": "code",
      "source": "# Python Lists\nlist = [ 'abcd', 786 , 2.23, 'john', 70.2 ]  # A list\ntuple = ( 'abcd', 786 , 2.23, 'john', 70.2  ) # A tuple. Tuples are immutable, i.e. cannot be edit later\n\nprint(list)            # Prints complete list\nprint(list[0])         # Prints first element of the list\nprint(tuple[1:3])        # Prints elements starting from 2nd till 3rd\ntuple[1]=5\nprint(tuple[1])",
      "execution_count": 53,
      "outputs": [
        {
          "name": "stdout",
          "output_type": "stream",
          "text": "['abcd', 786, 2.23, 'john', 70.2]\nabcd\n(786, 2.23)\n"
        },
        {
          "ename": "TypeError",
          "evalue": "'tuple' object does not support item assignment",
          "output_type": "error",
          "traceback": [
            "\u001b[0;31m---------------------------------------------------------------------------\u001b[0m",
            "\u001b[0;31mTypeError\u001b[0m                                 Traceback (most recent call last)",
            "\u001b[0;32m<ipython-input-53-0a2337117375>\u001b[0m in \u001b[0;36m<module>\u001b[0;34m()\u001b[0m\n\u001b[1;32m      6\u001b[0m \u001b[0mprint\u001b[0m\u001b[0;34m(\u001b[0m\u001b[0mlist\u001b[0m\u001b[0;34m[\u001b[0m\u001b[0;36m0\u001b[0m\u001b[0;34m]\u001b[0m\u001b[0;34m)\u001b[0m         \u001b[0;31m# Prints first element of the list\u001b[0m\u001b[0;34m\u001b[0m\u001b[0m\n\u001b[1;32m      7\u001b[0m \u001b[0mprint\u001b[0m\u001b[0;34m(\u001b[0m\u001b[0mtuple\u001b[0m\u001b[0;34m[\u001b[0m\u001b[0;36m1\u001b[0m\u001b[0;34m:\u001b[0m\u001b[0;36m3\u001b[0m\u001b[0;34m]\u001b[0m\u001b[0;34m)\u001b[0m        \u001b[0;31m# Prints elements starting from 2nd till 3rd\u001b[0m\u001b[0;34m\u001b[0m\u001b[0m\n\u001b[0;32m----> 8\u001b[0;31m \u001b[0mtuple\u001b[0m\u001b[0;34m[\u001b[0m\u001b[0;36m1\u001b[0m\u001b[0;34m]\u001b[0m\u001b[0;34m=\u001b[0m\u001b[0;36m5\u001b[0m\u001b[0;34m\u001b[0m\u001b[0m\n\u001b[0m\u001b[1;32m      9\u001b[0m \u001b[0mprint\u001b[0m\u001b[0;34m(\u001b[0m\u001b[0mtuple\u001b[0m\u001b[0;34m[\u001b[0m\u001b[0;36m1\u001b[0m\u001b[0;34m]\u001b[0m\u001b[0;34m)\u001b[0m\u001b[0;34m\u001b[0m\u001b[0m\n",
            "\u001b[0;31mTypeError\u001b[0m: 'tuple' object does not support item assignment"
          ]
        }
      ]
    },
    {
      "metadata": {
        "trusted": false
      },
      "cell_type": "code",
      "source": "# Lists are ordered sets of objects, whereas dictionaries are unordered sets. But the main difference is that items in dictionaries are accessed via keys and not via their position.\ntel = {'jack': 4098, 'sape': 4139}\ntel['guido'] = 4127\nprint(tel)\nprint(tel['jack'])\ndel tel['sape']\ntel['irv'] = 4127\nprint(tel)\nprint(tel.keys())\nprint(sorted(tel.keys()))\nprint(sorted(tel.values()))\nprint('guido' in tel)\nprint('jack' not in tel)\n",
      "execution_count": null,
      "outputs": []
    },
    {
      "metadata": {},
      "cell_type": "markdown",
      "source": "###  Conditioning and looping"
    },
    {
      "metadata": {
        "trusted": true
      },
      "cell_type": "code",
      "source": "# Square of odd numbers\n\nfor i in range(0,10):\n    if i%2 == 0:\n        print(\"Square of \",i,\" is :\",i)\n    else:\n        print(i,\"is an odd number\")",
      "execution_count": 2,
      "outputs": [
        {
          "output_type": "stream",
          "text": "Square of  0  is : 0\n1 is an odd number\nSquare of  2  is : 2\n3 is an odd number\nSquare of  4  is : 4\n5 is an odd number\nSquare of  6  is : 6\n7 is an odd number\nSquare of  8  is : 8\n9 is an odd number\n",
          "name": "stdout"
        }
      ]
    },
    {
      "metadata": {},
      "cell_type": "markdown",
      "source": "### Built-in Functions"
    },
    {
      "metadata": {
        "trusted": false
      },
      "cell_type": "code",
      "source": "print(\"Sum of array: \",sum([1,2,3,4]))\nprint(\"Length of array: \",len([1,2,3,4]))\nprint(\"Absolute value: \",abs(-1234))\nprint(\"Round value: \",round(1.2234))\n\nimport math as mt      # importing a package\nprint(\"Log value: \",mt.log(10))",
      "execution_count": null,
      "outputs": []
    },
    {
      "metadata": {},
      "cell_type": "markdown",
      "source": "### Functions"
    },
    {
      "metadata": {
        "trusted": false
      },
      "cell_type": "code",
      "source": "def area(length,width):\n    return length*width\n\nprint(\"Area of rectangle:\",area(10,20))",
      "execution_count": null,
      "outputs": []
    },
    {
      "metadata": {
        "collapsed": true
      },
      "cell_type": "markdown",
      "source": "### Broadcasting\n* Subject to certain constraints, the smaller array is “broadcast” across the larger array so that they have compatible shapes\n\n### NumPy \n* Numpy is the fundamental package for scientific computing with Python. It contains among other things:\n* a powerful N-dimensional array object\n* sophisticated (broadcasting) functions\n* tools for integrating C/C++ and Fortran code\n* useful linear algebra, Fourier transform, and random number capabilities"
    },
    {
      "metadata": {
        "trusted": false
      },
      "cell_type": "code",
      "source": "import numpy as np   # Importing libraries\n\na = np.array([0, 1, 2])\nb = np.array([5, 5, 5])\n\nprint(\"Matrix A\\n\", a)\nprint(\"Matrix B\\n\", b)\n\nprint(\"Regular matrix addition A+B\\n\", a + b)\n\nprint(\"Addition using Broadcasting A+5\\n\", a + 2)",
      "execution_count": null,
      "outputs": []
    },
    {
      "metadata": {},
      "cell_type": "markdown",
      "source": "### Broadcasting Rules\nWhen operating on two arrays, NumPy compares their shapes element-wise. It starts with the trailing dimensions, and works its way forward. Two dimensions are compatible when\n\n1. they are equal, or\n2.  one of them is 1\n"
    },
    {
      "metadata": {
        "trusted": false
      },
      "cell_type": "code",
      "source": "# Lets go for a 2D matrix\nc = np.array([[0, 1, 2],[3, 4, 5],[6, 7, 8]])\nd = np.array([[1, 2, 3],[1, 2, 3],[1, 2, 3]])\n\ne = np.array([1, 2, 3])\n\nprint(\"Matrix C\\n\", c)\nprint(\"Matrix D\\n\", d)\nprint(\"Matrix E\\n\", d)\n\nprint(\"Regular matrix addition C+D\\n\", c + d)\n\nprint(\"Addition using Broadcasting C+E\\n\", c + e)",
      "execution_count": null,
      "outputs": []
    },
    {
      "metadata": {
        "trusted": false
      },
      "cell_type": "code",
      "source": "M = np.ones((3, 3))\nprint(\"Matrix M:\\n\",M)",
      "execution_count": null,
      "outputs": []
    },
    {
      "metadata": {
        "scrolled": true,
        "trusted": false
      },
      "cell_type": "code",
      "source": "print(\"Dimension of M: \",M.shape)\nprint(\"Dimension of a: \",a.shape)\nprint(\"Addition using Broadcasting\")\nprint(M + a)\n# Broadcasting array with matrix",
      "execution_count": null,
      "outputs": []
    },
    {
      "metadata": {},
      "cell_type": "markdown",
      "source": "## All in one program"
    },
    {
      "metadata": {
        "trusted": false
      },
      "cell_type": "code",
      "source": "# Importing libraries\nimport timeit\n\n# Usage of builtin functions\nstart = timeit.default_timer()   \n\n# Defining a list\narray_list = [10,11,15,19,21,32]      \narray_np_list = []\n\n# Print the list\nprint(\"Original List\",array_list,\"\\n\")   \n\n# Defining a function\ndef prime(num):      \n    if num > 1:     \n        \n        # check for factors\n        # Iterating a range of numbers\n        for i in range(2,num):    \n            if (num % i) == 0:\n                \n                # Appending data to list\n                array_np_list.append(num)           \n                print(num,\"is not a prime number (\",i,\"times\",num//i,\"is\",num,\")\")\n                \n                # Terminating a loop run\n                break         \n        else:\n            print(num,\"is a prime number\")\n            \n# Iterating a list\nfor item in array_list:\n    \n    # Calling a function\n    prime(item)         \n\nprint(\"\\nNon-prime List\",array_np_list,\"\\n\")\n\nend = timeit.default_timer()\n\n# Computing running time\nprint(\"Time Taken to run the program:\",end - start, \"seconds\")       ",
      "execution_count": null,
      "outputs": []
    },
    {
      "metadata": {},
      "cell_type": "markdown",
      "source": "### Note:\n* Python is a procedural Language\n* Two versions of Python 2 vs 3\n* No braces. i.e. indentation\n* No need to explicitly mention data type"
    },
    {
      "metadata": {},
      "cell_type": "markdown",
      "source": "## Unvectorized vs Vectorized Implementations"
    },
    {
      "metadata": {
        "trusted": false
      },
      "cell_type": "code",
      "source": "# Importing libraries\nimport numpy as np\n\n# Defining matrices\nmat_a = [[6, 7, 8],[5, 4, 5],[1, 1, 1]]\nmat_b = [[1, 2, 3],[1, 2, 3],[1, 2, 3]]\n\n# Getting a row from matrix\ndef get_row(matrix, row):\n    return matrix[row]\n\n# Getting a coloumn from matrix\ndef get_column(matrix, column_number):\n    column = []\n \n    for i in range(len(matrix)):\n        column.append(matrix[i][column_number])\n \n    return column\n\n# Multiply a row with coloumn\ndef unv_dot_product(vector_one, vector_two):\n    total = 0\n \n    if len(vector_one) != len(vector_two):\n        return total\n \n    for i in range(len(vector_one)):\n        product = vector_one[i] * vector_two[i]\n        total += product\n \n    return total\n\n# Multiply two matrixes\ndef matrix_multiplication(matrix_one, matrix_two):\n    m_rows = len(matrix_one)\n    p_columns = len(matrix_two[0])\n    result = []\n    \n    for i in range(m_rows):\n        row_result = []\n \n        for j in range(p_columns):\n            row = get_row(matrix_one, i)\n            column = get_column(matrix_two, j)\n            product = unv_dot_product(row, column)\n            \n            row_result.append(product) \n        result.append(row_result)\n        \n    return result\n\nprint(\"Matrix A: \", mat_a,\"\\n\")\nprint(\"Matrix B: \", mat_b,\"\\n\")\n\nprint(\"Unvectorized Matrix Multiplication\\n\",matrix_multiplication(mat_a,mat_b),\"\\n\")\n",
      "execution_count": null,
      "outputs": []
    },
    {
      "metadata": {
        "trusted": false
      },
      "cell_type": "code",
      "source": "# Vectorized Implementation\nnpm_a = np.array(mat_a)\nnpm_b = np.array(mat_b)\n\nprint(\"Vectorized Matrix Multiplication\\n\",npm_a.dot(npm_b),\"\\n\") \n# A.dot(B) is a numpy built-in function for dot product",
      "execution_count": null,
      "outputs": []
    },
    {
      "metadata": {},
      "cell_type": "markdown",
      "source": "### Tip:\n* Vectorization reduces number of lines of code\n* Always prefer libraries and avoid coding from scratch"
    },
    {
      "metadata": {},
      "cell_type": "markdown",
      "source": "## Essential Python Packages: Numpy, Pandas, Matplotlib"
    },
    {
      "metadata": {
        "trusted": false
      },
      "cell_type": "code",
      "source": "# Load library\nimport numpy as np",
      "execution_count": null,
      "outputs": []
    },
    {
      "metadata": {
        "trusted": false
      },
      "cell_type": "code",
      "source": "# Create row vector\nvector = np.array([1, 2, 3, 4, 5, 6])\nprint(\"Vector:\",vector)\n\n# Select second element\nprint(\"Element 2 in Vector is\",vector[1])",
      "execution_count": null,
      "outputs": []
    },
    {
      "metadata": {
        "trusted": false
      },
      "cell_type": "code",
      "source": "# Create matrix\nmatrix = np.array([[1, 2, 3],\n                   [4, 5, 6],\n                   [7, 8, 9]])\n\nprint(\"Matrix\\n\",matrix)\n\n# Select second row\nprint(\"Second row of Matrix\\n\",matrix[1,:])\nprint(\"Third coloumn of Matrix\\n\",matrix[:,2])",
      "execution_count": null,
      "outputs": []
    },
    {
      "metadata": {
        "trusted": false
      },
      "cell_type": "code",
      "source": "# Create Tensor\ntensor = np.array([ [[[1, 1], [1, 1]], [[2, 2], [2, 2]]],\n                    [[[3, 3], [3, 3]], [[4, 4], [4, 4]]] ])\n\nprint(\"Tensor\\n\",tensor)",
      "execution_count": null,
      "outputs": []
    },
    {
      "metadata": {},
      "cell_type": "markdown",
      "source": "### Matrix properties"
    },
    {
      "metadata": {
        "trusted": false
      },
      "cell_type": "code",
      "source": "# Create matrix\nmatrix = np.array([[1, 2, 3],\n                   [4, 5, 6],\n                   [7, 8, 9]])\n\nprint(\"Matrix Shape:\",matrix.shape)\nprint(\"Number of elements:\",matrix.size)\nprint(\"Number of dimentions:\",matrix.ndim)\nprint(\"Average of matrix:\",np.mean(matrix))\nprint(\"Maximum number:\",np.max(matrix))\nprint(\"Coloumn with minimum numbers:\",np.min(matrix, axis=1))\nprint(\"Diagnol of matrix:\",matrix.diagonal())\nprint(\"Determinant of matrix:\",np.linalg.det(matrix))",
      "execution_count": null,
      "outputs": []
    },
    {
      "metadata": {},
      "cell_type": "markdown",
      "source": "### Matrix Operations"
    },
    {
      "metadata": {
        "trusted": false
      },
      "cell_type": "code",
      "source": "print(\"Flattened Matrix\\n\",matrix.flatten())\nprint(\"Reshaping Matrix\\n\",matrix.reshape(9,1))\nprint(\"Inversed Matrix\\n\",np.linalg.inv(matrix))\nprint(\"Transposed Matrix\\n\",matrix.T)",
      "execution_count": null,
      "outputs": []
    },
    {
      "metadata": {
        "trusted": false
      },
      "cell_type": "code",
      "source": "# Create matrix\nmatrix_a = np.array([[1, 1, 1],\n                     [1, 1, 1],\n                     [1, 1, 2]])\n\n# Create matrix\nmatrix_b = np.array([[1, 3, 1],\n                     [1, 3, 1],\n                     [1, 3, 8]])\n\nprint(\"Matrix Addition\\n\",np.add(matrix_a, matrix_b))\nprint(\"Scalar Multiplication\\n\",np.multiply(matrix_a, matrix_b))\nprint(\"Matrix Addition\\n\",np.dot(matrix_a, matrix_b))\n",
      "execution_count": null,
      "outputs": []
    },
    {
      "metadata": {},
      "cell_type": "markdown",
      "source": "### Pandas"
    },
    {
      "metadata": {
        "trusted": false
      },
      "cell_type": "code",
      "source": "import pandas as pd",
      "execution_count": 60,
      "outputs": []
    },
    {
      "metadata": {
        "trusted": false
      },
      "cell_type": "code",
      "source": "df=pd.read_csv(\"Income.csv\")\nprint(\"Data\\n\")\ndf",
      "execution_count": 61,
      "outputs": [
        {
          "name": "stdout",
          "output_type": "stream",
          "text": "Data\n\n"
        },
        {
          "data": {
            "text/html": "<div>\n<table border=\"1\" class=\"dataframe\">\n  <thead>\n    <tr style=\"text-align: right;\">\n      <th></th>\n      <th>GEOID</th>\n      <th>State</th>\n      <th>2005</th>\n      <th>2006</th>\n      <th>2007</th>\n      <th>2008</th>\n      <th>2009</th>\n      <th>2010</th>\n      <th>2011</th>\n      <th>2012</th>\n      <th>2013</th>\n    </tr>\n  </thead>\n  <tbody>\n    <tr>\n      <th>0</th>\n      <td>04000US01</td>\n      <td>Alabama</td>\n      <td>37150</td>\n      <td>37952</td>\n      <td>42212</td>\n      <td>44476</td>\n      <td>39980</td>\n      <td>40933</td>\n      <td>42590</td>\n      <td>43464</td>\n      <td>41381</td>\n    </tr>\n    <tr>\n      <th>1</th>\n      <td>04000US02</td>\n      <td>Alaska</td>\n      <td>55891</td>\n      <td>56418</td>\n      <td>62993</td>\n      <td>63989</td>\n      <td>61604</td>\n      <td>57848</td>\n      <td>57431</td>\n      <td>63648</td>\n      <td>61137</td>\n    </tr>\n    <tr>\n      <th>2</th>\n      <td>04000US04</td>\n      <td>Arizona</td>\n      <td>45245</td>\n      <td>46657</td>\n      <td>47215</td>\n      <td>46914</td>\n      <td>45739</td>\n      <td>46896</td>\n      <td>48621</td>\n      <td>47044</td>\n      <td>50602</td>\n    </tr>\n    <tr>\n      <th>3</th>\n      <td>04000US05</td>\n      <td>Arkansas</td>\n      <td>36658</td>\n      <td>37057</td>\n      <td>40795</td>\n      <td>39586</td>\n      <td>36538</td>\n      <td>38587</td>\n      <td>41302</td>\n      <td>39018</td>\n      <td>39919</td>\n    </tr>\n    <tr>\n      <th>4</th>\n      <td>04000US06</td>\n      <td>California</td>\n      <td>51755</td>\n      <td>55319</td>\n      <td>55734</td>\n      <td>57014</td>\n      <td>56134</td>\n      <td>54283</td>\n      <td>53367</td>\n      <td>57020</td>\n      <td>57528</td>\n    </tr>\n    <tr>\n      <th>5</th>\n      <td>04000US07</td>\n      <td>Chicago</td>\n      <td>-999</td>\n      <td>-999</td>\n      <td>-999</td>\n      <td>-999</td>\n      <td>-999</td>\n      <td>-999</td>\n      <td>-999</td>\n      <td>-999</td>\n      <td>-999</td>\n    </tr>\n  </tbody>\n</table>\n</div>",
            "text/plain": "       GEOID       State   2005   2006   2007   2008   2009   2010   2011  \\\n0  04000US01     Alabama  37150  37952  42212  44476  39980  40933  42590   \n1  04000US02      Alaska  55891  56418  62993  63989  61604  57848  57431   \n2  04000US04     Arizona  45245  46657  47215  46914  45739  46896  48621   \n3  04000US05    Arkansas  36658  37057  40795  39586  36538  38587  41302   \n4  04000US06  California  51755  55319  55734  57014  56134  54283  53367   \n5  04000US07     Chicago   -999   -999   -999   -999   -999   -999   -999   \n\n    2012   2013  \n0  43464  41381  \n1  63648  61137  \n2  47044  50602  \n3  39018  39919  \n4  57020  57528  \n5   -999   -999  "
          },
          "execution_count": 61,
          "metadata": {},
          "output_type": "execute_result"
        }
      ]
    },
    {
      "metadata": {
        "trusted": false
      },
      "cell_type": "code",
      "source": "print(\"Top Elements\\n\")\ndf.head(3)",
      "execution_count": 62,
      "outputs": [
        {
          "name": "stdout",
          "output_type": "stream",
          "text": "Top Elements\n\n"
        },
        {
          "data": {
            "text/html": "<div>\n<table border=\"1\" class=\"dataframe\">\n  <thead>\n    <tr style=\"text-align: right;\">\n      <th></th>\n      <th>GEOID</th>\n      <th>State</th>\n      <th>2005</th>\n      <th>2006</th>\n      <th>2007</th>\n      <th>2008</th>\n      <th>2009</th>\n      <th>2010</th>\n      <th>2011</th>\n      <th>2012</th>\n      <th>2013</th>\n    </tr>\n  </thead>\n  <tbody>\n    <tr>\n      <th>0</th>\n      <td>04000US01</td>\n      <td>Alabama</td>\n      <td>37150</td>\n      <td>37952</td>\n      <td>42212</td>\n      <td>44476</td>\n      <td>39980</td>\n      <td>40933</td>\n      <td>42590</td>\n      <td>43464</td>\n      <td>41381</td>\n    </tr>\n    <tr>\n      <th>1</th>\n      <td>04000US02</td>\n      <td>Alaska</td>\n      <td>55891</td>\n      <td>56418</td>\n      <td>62993</td>\n      <td>63989</td>\n      <td>61604</td>\n      <td>57848</td>\n      <td>57431</td>\n      <td>63648</td>\n      <td>61137</td>\n    </tr>\n    <tr>\n      <th>2</th>\n      <td>04000US04</td>\n      <td>Arizona</td>\n      <td>45245</td>\n      <td>46657</td>\n      <td>47215</td>\n      <td>46914</td>\n      <td>45739</td>\n      <td>46896</td>\n      <td>48621</td>\n      <td>47044</td>\n      <td>50602</td>\n    </tr>\n  </tbody>\n</table>\n</div>",
            "text/plain": "       GEOID    State   2005   2006   2007   2008   2009   2010   2011   2012  \\\n0  04000US01  Alabama  37150  37952  42212  44476  39980  40933  42590  43464   \n1  04000US02   Alaska  55891  56418  62993  63989  61604  57848  57431  63648   \n2  04000US04  Arizona  45245  46657  47215  46914  45739  46896  48621  47044   \n\n    2013  \n0  41381  \n1  61137  \n2  50602  "
          },
          "execution_count": 62,
          "metadata": {},
          "output_type": "execute_result"
        }
      ]
    },
    {
      "metadata": {
        "trusted": false
      },
      "cell_type": "code",
      "source": "print(\"Bottom Elements\\n\")\ndf.tail(3)",
      "execution_count": 63,
      "outputs": [
        {
          "name": "stdout",
          "output_type": "stream",
          "text": "Bottom Elements\n\n"
        },
        {
          "data": {
            "text/html": "<div>\n<table border=\"1\" class=\"dataframe\">\n  <thead>\n    <tr style=\"text-align: right;\">\n      <th></th>\n      <th>GEOID</th>\n      <th>State</th>\n      <th>2005</th>\n      <th>2006</th>\n      <th>2007</th>\n      <th>2008</th>\n      <th>2009</th>\n      <th>2010</th>\n      <th>2011</th>\n      <th>2012</th>\n      <th>2013</th>\n    </tr>\n  </thead>\n  <tbody>\n    <tr>\n      <th>3</th>\n      <td>04000US05</td>\n      <td>Arkansas</td>\n      <td>36658</td>\n      <td>37057</td>\n      <td>40795</td>\n      <td>39586</td>\n      <td>36538</td>\n      <td>38587</td>\n      <td>41302</td>\n      <td>39018</td>\n      <td>39919</td>\n    </tr>\n    <tr>\n      <th>4</th>\n      <td>04000US06</td>\n      <td>California</td>\n      <td>51755</td>\n      <td>55319</td>\n      <td>55734</td>\n      <td>57014</td>\n      <td>56134</td>\n      <td>54283</td>\n      <td>53367</td>\n      <td>57020</td>\n      <td>57528</td>\n    </tr>\n    <tr>\n      <th>5</th>\n      <td>04000US07</td>\n      <td>Chicago</td>\n      <td>-999</td>\n      <td>-999</td>\n      <td>-999</td>\n      <td>-999</td>\n      <td>-999</td>\n      <td>-999</td>\n      <td>-999</td>\n      <td>-999</td>\n      <td>-999</td>\n    </tr>\n  </tbody>\n</table>\n</div>",
            "text/plain": "       GEOID       State   2005   2006   2007   2008   2009   2010   2011  \\\n3  04000US05    Arkansas  36658  37057  40795  39586  36538  38587  41302   \n4  04000US06  California  51755  55319  55734  57014  56134  54283  53367   \n5  04000US07     Chicago   -999   -999   -999   -999   -999   -999   -999   \n\n    2012   2013  \n3  39018  39919  \n4  57020  57528  \n5   -999   -999  "
          },
          "execution_count": 63,
          "metadata": {},
          "output_type": "execute_result"
        }
      ]
    },
    {
      "metadata": {
        "trusted": false
      },
      "cell_type": "code",
      "source": "print(\"Specific Coloumn\\n\")\ndf['State'].head(3)",
      "execution_count": 64,
      "outputs": [
        {
          "name": "stdout",
          "output_type": "stream",
          "text": "Specific Coloumn\n\n"
        },
        {
          "data": {
            "text/plain": "0    Alabama\n1     Alaska\n2    Arizona\nName: State, dtype: object"
          },
          "execution_count": 64,
          "metadata": {},
          "output_type": "execute_result"
        }
      ]
    },
    {
      "metadata": {
        "trusted": false
      },
      "cell_type": "code",
      "source": "print(\"Replace negative numbers with NaN\\n\")\ndf.replace(-999,np.nan)",
      "execution_count": 65,
      "outputs": [
        {
          "name": "stdout",
          "output_type": "stream",
          "text": "Replace negative numbers with NaN\n\n"
        },
        {
          "data": {
            "text/html": "<div>\n<table border=\"1\" class=\"dataframe\">\n  <thead>\n    <tr style=\"text-align: right;\">\n      <th></th>\n      <th>GEOID</th>\n      <th>State</th>\n      <th>2005</th>\n      <th>2006</th>\n      <th>2007</th>\n      <th>2008</th>\n      <th>2009</th>\n      <th>2010</th>\n      <th>2011</th>\n      <th>2012</th>\n      <th>2013</th>\n    </tr>\n  </thead>\n  <tbody>\n    <tr>\n      <th>0</th>\n      <td>04000US01</td>\n      <td>Alabama</td>\n      <td>37150.0</td>\n      <td>37952.0</td>\n      <td>42212.0</td>\n      <td>44476.0</td>\n      <td>39980.0</td>\n      <td>40933.0</td>\n      <td>42590.0</td>\n      <td>43464.0</td>\n      <td>41381.0</td>\n    </tr>\n    <tr>\n      <th>1</th>\n      <td>04000US02</td>\n      <td>Alaska</td>\n      <td>55891.0</td>\n      <td>56418.0</td>\n      <td>62993.0</td>\n      <td>63989.0</td>\n      <td>61604.0</td>\n      <td>57848.0</td>\n      <td>57431.0</td>\n      <td>63648.0</td>\n      <td>61137.0</td>\n    </tr>\n    <tr>\n      <th>2</th>\n      <td>04000US04</td>\n      <td>Arizona</td>\n      <td>45245.0</td>\n      <td>46657.0</td>\n      <td>47215.0</td>\n      <td>46914.0</td>\n      <td>45739.0</td>\n      <td>46896.0</td>\n      <td>48621.0</td>\n      <td>47044.0</td>\n      <td>50602.0</td>\n    </tr>\n    <tr>\n      <th>3</th>\n      <td>04000US05</td>\n      <td>Arkansas</td>\n      <td>36658.0</td>\n      <td>37057.0</td>\n      <td>40795.0</td>\n      <td>39586.0</td>\n      <td>36538.0</td>\n      <td>38587.0</td>\n      <td>41302.0</td>\n      <td>39018.0</td>\n      <td>39919.0</td>\n    </tr>\n    <tr>\n      <th>4</th>\n      <td>04000US06</td>\n      <td>California</td>\n      <td>51755.0</td>\n      <td>55319.0</td>\n      <td>55734.0</td>\n      <td>57014.0</td>\n      <td>56134.0</td>\n      <td>54283.0</td>\n      <td>53367.0</td>\n      <td>57020.0</td>\n      <td>57528.0</td>\n    </tr>\n    <tr>\n      <th>5</th>\n      <td>04000US07</td>\n      <td>Chicago</td>\n      <td>NaN</td>\n      <td>NaN</td>\n      <td>NaN</td>\n      <td>NaN</td>\n      <td>NaN</td>\n      <td>NaN</td>\n      <td>NaN</td>\n      <td>NaN</td>\n      <td>NaN</td>\n    </tr>\n  </tbody>\n</table>\n</div>",
            "text/plain": "       GEOID       State     2005     2006     2007     2008     2009  \\\n0  04000US01     Alabama  37150.0  37952.0  42212.0  44476.0  39980.0   \n1  04000US02      Alaska  55891.0  56418.0  62993.0  63989.0  61604.0   \n2  04000US04     Arizona  45245.0  46657.0  47215.0  46914.0  45739.0   \n3  04000US05    Arkansas  36658.0  37057.0  40795.0  39586.0  36538.0   \n4  04000US06  California  51755.0  55319.0  55734.0  57014.0  56134.0   \n5  04000US07     Chicago      NaN      NaN      NaN      NaN      NaN   \n\n      2010     2011     2012     2013  \n0  40933.0  42590.0  43464.0  41381.0  \n1  57848.0  57431.0  63648.0  61137.0  \n2  46896.0  48621.0  47044.0  50602.0  \n3  38587.0  41302.0  39018.0  39919.0  \n4  54283.0  53367.0  57020.0  57528.0  \n5      NaN      NaN      NaN      NaN  "
          },
          "execution_count": 65,
          "metadata": {},
          "output_type": "execute_result"
        }
      ]
    },
    {
      "metadata": {},
      "cell_type": "markdown",
      "source": "## Matplotlib"
    },
    {
      "metadata": {
        "trusted": false
      },
      "cell_type": "code",
      "source": "import matplotlib.pyplot as plt\nimport matplotlib.mlab as mlab",
      "execution_count": 66,
      "outputs": []
    },
    {
      "metadata": {},
      "cell_type": "markdown",
      "source": "### Line Plot"
    },
    {
      "metadata": {
        "scrolled": true,
        "trusted": false
      },
      "cell_type": "code",
      "source": "# Line plot\nplt.plot([1,2,3,4],[3,4,5,6])\nplt.xlabel('some numbers')\nplt.ylabel('some numbers')\nplt.show()",
      "execution_count": 55,
      "outputs": [
        {
          "data": {
            "image/png": "[encoded data removed]",
            "text/plain": "<matplotlib.figure.Figure at 0x7fd88c378b00>"
          },
          "metadata": {},
          "output_type": "display_data"
        }
      ]
    },
    {
      "metadata": {
        "trusted": false
      },
      "cell_type": "code",
      "source": "### Adding elements to line plots\nt = np.arange(0.0, 2.0, 0.01) # Generate equally space numbers between 0 and 2\ns = 1 + np.sin(2*np.pi*t)  # Apply sin function to the random numbers\nplt.plot(t, s)\n\nplt.xlabel('time (s)')\nplt.ylabel('voltage (mV)')\nplt.title('About as simple as it gets, folks')\nplt.grid(True)\nplt.savefig(\"test.png\") # Save a plot. Check the directory\nplt.show()",
      "execution_count": 56,
      "outputs": [
        {
          "data": {
            "image/png": "[encoded data removed]",
            "text/plain": "<matplotlib.figure.Figure at 0x7fd88c378a20>"
          },
          "metadata": {},
          "output_type": "display_data"
        }
      ]
    },
    {
      "metadata": {},
      "cell_type": "markdown",
      "source": "### Bar Plot"
    },
    {
      "metadata": {
        "trusted": false
      },
      "cell_type": "code",
      "source": "y = [3, 10, 7, 5, 3, 4.5, 6, 8.1]\nx = range(len(y))\nwidth = 1/1.5\nplt.bar(x, y, width, color=\"blue\")\nplt.show()",
      "execution_count": 57,
      "outputs": [
        {
          "data": {
            "image/png": "[encoded data removed]",
            "text/plain": "<matplotlib.figure.Figure at 0x7fd88b9ccf60>"
          },
          "metadata": {},
          "output_type": "display_data"
        }
      ]
    },
    {
      "metadata": {},
      "cell_type": "markdown",
      "source": "### Scatter Plot"
    },
    {
      "metadata": {
        "scrolled": true,
        "trusted": false
      },
      "cell_type": "code",
      "source": "N = 50\n# Generate random numbers\nx = np.random.rand(N)\ny = np.random.rand(N)\ncolors = np.random.rand(N)\narea = np.pi * (15 * np.random.rand(N))**2  # 0 to 15 point radii\n\nplt.scatter(x, y, s=area, c=colors, alpha=0.5)\nplt.show()",
      "execution_count": 58,
      "outputs": [
        {
          "data": {
            "image/png": "[encoded data removed]",
            "text/plain": "<matplotlib.figure.Figure at 0x7fd88b9ee5f8>"
          },
          "metadata": {},
          "output_type": "display_data"
        }
      ]
    },
    {
      "metadata": {},
      "cell_type": "markdown",
      "source": "### Histogram"
    },
    {
      "metadata": {
        "scrolled": true,
        "trusted": false
      },
      "cell_type": "code",
      "source": "mu, sigma = 100, 15\nx = mu + sigma*np.random.randn(10000) # Generate random values with some distribution\n\n# the histogram of the data\nn, bins, patches = plt.hist(x, 50, normed=1, facecolor='green', alpha=0.75)\n\n# add a 'best fit' line\ny = mlab.normpdf( bins, mu, sigma)\nl = plt.plot(bins, y, 'r--', linewidth=1)\n\nplt.xlabel('Smarts')\nplt.ylabel('Probability')\nplt.title(r'$\\mathrm{Histogram\\ of\\ IQ:}\\ \\mu=100,\\ \\sigma=15$')\nplt.axis([40, 160, 0, 0.03])\nplt.grid(True)\n\nplt.show()",
      "execution_count": 59,
      "outputs": [
        {
          "data": {
            "image/png": "[encoded data removed]",
            "text/plain": "<matplotlib.figure.Figure at 0x7fd88bc4f0f0>"
          },
          "metadata": {},
          "output_type": "display_data"
        }
      ]
    },
    {
      "metadata": {},
      "cell_type": "markdown",
      "source": "### Pie Chart"
    },
    {
      "metadata": {
        "trusted": false
      },
      "cell_type": "code",
      "source": "# Pie chart, where the slices will be ordered and plotted counter-clockwise:\nlabels = 'Frogs', 'Hogs', 'Dogs', 'Logs'\nsizes = [15, 30, 45, 10]\nexplode = (0, 0.1, 0, 0)  # only \"explode\" the 2nd slice (i.e. 'Hogs')\n\nfig1, ax1 = plt.subplots()\nax1.pie(sizes, explode=explode, labels=labels, autopct='%1.1f%%',\n        shadow=True, startangle=90)\nax1.axis('equal')  # Equal aspect ratio ensures that pie is drawn as a circle.\n\nplt.show()",
      "execution_count": null,
      "outputs": []
    }
  ],
  "metadata": {
    "kernelspec": {
      "name": "python3",
      "display_name": "Python 3",
      "language": "python"
    },
    "language_info": {
      "mimetype": "text/x-python",
      "nbconvert_exporter": "python",
      "name": "python",
      "file_extension": ".py",
      "version": "3.5.4",
      "pygments_lexer": "ipython3",
      "codemirror_mode": {
        "version": 3,
        "name": "ipython"
      }
    }
  },
  "nbformat": 4,
  "nbformat_minor": 2
}